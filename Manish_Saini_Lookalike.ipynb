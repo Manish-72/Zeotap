{
 "cells": [
  {
   "cell_type": "markdown",
   "id": "878343a4-e17b-4e43-949e-c3a4de395ade",
   "metadata": {},
   "source": [
    "# Lookalike Model"
   ]
  },
  {
   "cell_type": "markdown",
   "id": "e3aa35d4-fbd7-4c59-9c59-55c853c8fcee",
   "metadata": {},
   "source": [
    "### import Necessary libraries"
   ]
  },
  {
   "cell_type": "code",
   "execution_count": 19,
   "id": "d9eb5992-4950-4736-b9f7-bf92f12b23f3",
   "metadata": {},
   "outputs": [],
   "source": [
    "import pandas as pd\n",
    "import numpy as np\n",
    "from sklearn.metrics.pairwise import cosine_similarity\n",
    "from sklearn.preprocessing import StandardScaler, OneHotEncoder"
   ]
  },
  {
   "cell_type": "markdown",
   "id": "f1c16c51-ec9b-4159-8112-72736729ca89",
   "metadata": {},
   "source": [
    "### Load datasets"
   ]
  },
  {
   "cell_type": "code",
   "execution_count": 4,
   "id": "3c2b2dc3-2b18-441f-b73c-3b08b01b7d51",
   "metadata": {},
   "outputs": [],
   "source": [
    "customers = pd.read_csv('Customers.csv')\n",
    "products = pd.read_csv('Products.csv')\n",
    "transactions = pd.read_csv('Transactions.csv')"
   ]
  },
  {
   "cell_type": "markdown",
   "id": "8640ef83-38f2-495e-89fd-1ae79b1b0313",
   "metadata": {},
   "source": [
    "### Parse date columns"
   ]
  },
  {
   "cell_type": "code",
   "execution_count": 5,
   "id": "2cffb860-06d9-4e08-8cc1-3023348a3b23",
   "metadata": {},
   "outputs": [],
   "source": [
    "# Convert SignupDate and TransactionDate to datetime for further calculations\n",
    "customers['SignupDate'] = pd.to_datetime(customers['SignupDate'])\n",
    "transactions['TransactionDate'] = pd.to_datetime(transactions['TransactionDate'])"
   ]
  },
  {
   "cell_type": "code",
   "execution_count": 6,
   "id": "c0b88801-7097-4809-b85a-4624c51e4dac",
   "metadata": {},
   "outputs": [],
   "source": [
    "# Calculate the number of days since the customer signed up\n",
    "customers['AccountAge'] = (pd.Timestamp.now() - customers['SignupDate']).dt.days"
   ]
  },
  {
   "cell_type": "markdown",
   "id": "c4e274f3-52bf-4b65-855d-fa34cb04859a",
   "metadata": {},
   "source": [
    "### One-hot encode region"
   ]
  },
  {
   "cell_type": "code",
   "execution_count": 11,
   "id": "b4ba9612-cd1d-4887-b816-760525fa3915",
   "metadata": {},
   "outputs": [],
   "source": [
    "# Convert the Region column into multiple binary columns for each unique region\n",
    "encoder = OneHotEncoder(sparse_output=False)  # Use sparse_output instead of sparse\n",
    "region_encoded = encoder.fit_transform(customers[['Region']])\n",
    "region_encoded_df = pd.DataFrame(region_encoded, columns=encoder.get_feature_names_out(['Region']))\n",
    "customers = pd.concat([customers, region_encoded_df], axis=1)\n"
   ]
  },
  {
   "cell_type": "markdown",
   "id": "f36c49fb-3087-47cb-8630-b793eca5bb2f",
   "metadata": {},
   "source": [
    "### Aggregate transaction data"
   ]
  },
  {
   "cell_type": "code",
   "execution_count": 12,
   "id": "9ecc5e8e-19e3-4a13-899d-0d22879ea7d3",
   "metadata": {},
   "outputs": [],
   "source": [
    "# Summarize transaction data for each customer\n",
    "transaction_summary = transactions.groupby('CustomerID').agg({\n",
    "    'Quantity': 'sum',\n",
    "    'TotalValue': 'sum',\n",
    "    'TransactionID': 'count'\n",
    "}).rename(columns={\n",
    "    'Quantity': 'TotalQuantity',\n",
    "    'TotalValue': 'TotalSpent',\n",
    "    'TransactionID': 'TransactionCount'\n",
    "})"
   ]
  },
  {
   "cell_type": "markdown",
   "id": "b8a00a1d-0f59-4757-be48-66961bf99a8f",
   "metadata": {},
   "source": [
    "### Merge with customer data"
   ]
  },
  {
   "cell_type": "code",
   "execution_count": 13,
   "id": "1ed3ac42-953c-410b-895f-1917af9bab27",
   "metadata": {},
   "outputs": [],
   "source": [
    "# Combine demographic and transaction data into a single DataFrame\n",
    "customer_features = customers.merge(transaction_summary, on='CustomerID', how='left').fillna(0)"
   ]
  },
  {
   "cell_type": "markdown",
   "id": "1a05b938-c56d-4346-92d2-c5eff560855c",
   "metadata": {},
   "source": [
    "### Standardize numerical features"
   ]
  },
  {
   "cell_type": "code",
   "execution_count": 14,
   "id": "19723240-55e9-422f-bbd4-50e532d5a038",
   "metadata": {},
   "outputs": [],
   "source": [
    "# Normalize numerical columns to ensure fair similarity computation\n",
    "scaler = StandardScaler()\n",
    "numeric_features = ['AccountAge', 'TotalQuantity', 'TotalSpent', 'TransactionCount']\n",
    "customer_features[numeric_features] = scaler.fit_transform(customer_features[numeric_features])"
   ]
  },
  {
   "cell_type": "markdown",
   "id": "7516d773-1104-4cdc-a427-03388709595b",
   "metadata": {},
   "source": [
    "### Compute similarity"
   ]
  },
  {
   "cell_type": "code",
   "execution_count": 15,
   "id": "2759c385-c000-410a-bddd-b361a251c5e8",
   "metadata": {},
   "outputs": [],
   "source": [
    "# Use cosine similarity to find customers with similar profiles and behaviors\n",
    "feature_columns = numeric_features + list(region_encoded_df.columns)\n",
    "similarity_matrix = cosine_similarity(customer_features[feature_columns])"
   ]
  },
  {
   "cell_type": "markdown",
   "id": "78030eb8-b23b-4832-ae50-67bbd636077b",
   "metadata": {},
   "source": [
    "### Generate top 3 lookalikes for first 20 customers"
   ]
  },
  {
   "cell_type": "code",
   "execution_count": 16,
   "id": "bb34b363-a714-405d-b4a5-503bf737680a",
   "metadata": {},
   "outputs": [],
   "source": [
    "# For each of the first 20 customers, find the top 3 most similar customers\n",
    "lookalike_data = {}\n",
    "for idx, cust_id in enumerate(customer_features['CustomerID'][:20]):\n",
    "    similar_indices = np.argsort(-similarity_matrix[idx])[1:4]  # Top 3 excluding itself\n",
    "    similar_customers = customer_features.iloc[similar_indices]['CustomerID']\n",
    "    similarity_scores = similarity_matrix[idx][similar_indices]\n",
    "    lookalike_data[cust_id] = list(zip(similar_customers, similarity_scores))"
   ]
  },
  {
   "cell_type": "markdown",
   "id": "e041f354-0656-40a5-95f1-c38fe6642fe7",
   "metadata": {},
   "source": [
    "### Save results"
   ]
  },
  {
   "cell_type": "code",
   "execution_count": 20,
   "id": "e8ca63f2-d7a3-4881-9a93-be159265a351",
   "metadata": {},
   "outputs": [
    {
     "name": "stdout",
     "output_type": "stream",
     "text": [
      "Lookalike.csv generated successfully!\n"
     ]
    }
   ],
   "source": [
    "# Create a CSV file mapping each customer to their top 3 lookalikes\n",
    "lookalike_df = pd.DataFrame({\n",
    "    'CustomerID': lookalike_data.keys(),\n",
    "    'Lookalikes': [str(v) for v in lookalike_data.values()]\n",
    "})\n",
    "lookalike_df.to_csv('Lookalike.csv', index=False)\n",
    "\n",
    "print(\"Lookalike.csv generated successfully!\")"
   ]
  },
  {
   "cell_type": "markdown",
   "id": "18ae7bdd-1d34-469b-bcda-9f89cc4d3914",
   "metadata": {},
   "source": [
    "--------"
   ]
  }
 ],
 "metadata": {
  "kernelspec": {
   "display_name": "Python 3 (ipykernel)",
   "language": "python",
   "name": "python3"
  },
  "language_info": {
   "codemirror_mode": {
    "name": "ipython",
    "version": 3
   },
   "file_extension": ".py",
   "mimetype": "text/x-python",
   "name": "python",
   "nbconvert_exporter": "python",
   "pygments_lexer": "ipython3",
   "version": "3.9.18"
  }
 },
 "nbformat": 4,
 "nbformat_minor": 5
}
